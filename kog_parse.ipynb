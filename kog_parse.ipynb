{
 "metadata": {
  "name": ""
 },
 "nbformat": 3,
 "nbformat_minor": 0,
 "worksheets": [
  {
   "cells": [
    {
     "cell_type": "code",
     "collapsed": false,
     "input": [
      "#Aim: for a given gene list (with spaces) contains kog number, get the kog class such as \"[J]\"\n",
      "#just a simple loop work for two small tsv files\n",
      "#Note: kog is really really old, the dataset I used is founded in 2003\n",
      "#Runsheng, 2014/12/29\n",
      "\n",
      "kog_f=open(\"data/kog\")\n",
      "kog=kog_f.readlines()\n",
      "kog_dict={} # make a dict to store the small kog dataset\n",
      "for line in kog:\n",
      "    if line[0]==\"[\":\n",
      "        kog_dict[line.split(\" \")[1]]=line.split(\" \")[0]\n",
      "kog_f.close()"
     ],
     "language": "python",
     "metadata": {},
     "outputs": [],
     "prompt_number": 1
    },
    {
     "cell_type": "code",
     "collapsed": false,
     "input": [
      "print kog_dict.keys()[2] #check the dic str"
     ],
     "language": "python",
     "metadata": {},
     "outputs": [
      {
       "output_type": "stream",
       "stream": "stdout",
       "text": [
        "KOG1259\n"
       ]
      }
     ],
     "prompt_number": 2
    },
    {
     "cell_type": "code",
     "collapsed": false,
     "input": [
      "with open(\"data/genelist.txt\") as aim: #\"with open\" is sometimes much more convenient than \"open\"\n",
      "    print aim.readlines()[3]#check the str in gene list\n",
      "\n",
      "aim_w=open(\"foo.txt\",\"w\") # foo is a popular name?\n",
      "with open(\"data/genelist.txt\") as aim:\n",
      "    for line in aim.readlines():\n",
      "        kog_title=line.split(\"\\t\")[0].replace(\"[\",\"\").replace(\"]\",\"\")\n",
      "        if kog_title in kog_dict.keys():\n",
      "            cc=kog_dict[kog_title]\n",
      "            line_w=line.split(\"\\t\")[0]+\"\\t\"+cc+\"\\n\"\n",
      "            aim_w.write(line_w)\n",
      "        else: #for the space lines\n",
      "            aim_w.write(\"\\n\")\n",
      "aim_w.close()"
     ],
     "language": "python",
     "metadata": {},
     "outputs": [
      {
       "output_type": "stream",
       "stream": "stdout",
       "text": [
        "[KOG0676]\t4\n",
        "\n"
       ]
      }
     ],
     "prompt_number": 3
    }
   ],
   "metadata": {}
  }
 ]
}